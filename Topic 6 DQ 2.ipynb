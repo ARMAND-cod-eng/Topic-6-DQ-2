{
 "cells": [
  {
   "cell_type": "markdown",
   "id": "c9d77e93",
   "metadata": {},
   "source": [
    "# Topic 6 DQ 2\n",
    "\n",
    "Consider a real-world scenario where you need to conduct a statistical test for paired data, multiple population means, or variance comparisons. Describe the problem, the data, and the research question. Discuss the appropriate statistical test that you would use to address the research question and explain why. Perform the test. Propose a Python tool to assist with the interpretation of the results of the statistical test and visualizations. How can you use the results to inform decisions or actions in the real-world scenario?\n",
    "\n",
    "Prepare your answer as follows:\n",
    "\n",
    "   - Provide a professionally written answer, anchored in scholarly work.\n",
    "   - Create a diagram, table, or other visual prop to help explain your answer and include 1–2 sentences describing the visual.\n",
    "   - include a Jupyter notebook with the relevant Python code you created.\n",
    "   - Record a short 2- to 3-minute video (using tools like Zoom or Loom) in which you explain your answer and code. Use an online video platform such as Loom, YouTube, or Vimeo to upload your completed video. Include the link to the video in your answer."
   ]
  },
  {
   "cell_type": "markdown",
   "id": "03e5c745",
   "metadata": {},
   "source": [
    "- Problem description:\n",
    "\n",
    "Suppose we are studying the effect of Obama Care on health insurance coverage. We wish to determine whether there is a significant difference between the percentage of uninsured before and the percentage of uninsured after Obama Care went into effect.\n",
    "\n",
    "- Data :\n",
    "\n",
    "The Affordable Care Act (ACA) is the name for the comprehensive health care reform law and its amendments which addresses health insurance coverage, health care costs, and preventive care. The law was enacted in two parts: The Patient Protection and Affordable Care Act was signed into law on March 23, 2010 by President Barack Obama and was amended by the Health Care and Education Reconciliation Act on March 30, 2010.\n",
    "\n",
    "- Appropriate statistical test:\n",
    "\n",
    "To answer this question, a paired t-test should be performed. This test compares the percentage of uninsured in 2010 and 2015 to determine whether there is a statistically significant difference between the two. \n",
    "\n",
    "- Python tool:\n",
    "\n",
    "To perform the paired t-test and interpret the results, we can use the Python library scipy.stats. In addition, we can use matplotlib for visualizations, such as boxplots or histograms, to compare the distribution.\n",
    "\n"
   ]
  },
  {
   "cell_type": "code",
   "execution_count": 16,
   "id": "a5939cbc",
   "metadata": {},
   "outputs": [],
   "source": [
    "# Import necessary libraries\n",
    "import numpy as np\n",
    "from scipy import stats\n",
    "import matplotlib.pyplot as plt\n",
    "import pandas as pd\n"
   ]
  },
  {
   "cell_type": "code",
   "execution_count": 26,
   "id": "d2b99bb9",
   "metadata": {},
   "outputs": [
    {
     "data": {
      "text/html": [
       "<div>\n",
       "<style scoped>\n",
       "    .dataframe tbody tr th:only-of-type {\n",
       "        vertical-align: middle;\n",
       "    }\n",
       "\n",
       "    .dataframe tbody tr th {\n",
       "        vertical-align: top;\n",
       "    }\n",
       "\n",
       "    .dataframe thead th {\n",
       "        text-align: right;\n",
       "    }\n",
       "</style>\n",
       "<table border=\"1\" class=\"dataframe\">\n",
       "  <thead>\n",
       "    <tr style=\"text-align: right;\">\n",
       "      <th></th>\n",
       "      <th>State</th>\n",
       "      <th>Uninsured Rate (2010)</th>\n",
       "      <th>Uninsured Rate (2015)</th>\n",
       "      <th>Uninsured Rate Change (2010-2015)</th>\n",
       "      <th>Health Insurance Coverage Change (2010-2015)</th>\n",
       "      <th>Employer Health Insurance Coverage (2015)</th>\n",
       "      <th>Marketplace Health Insurance Coverage (2016)</th>\n",
       "      <th>Marketplace Tax Credits (2016)</th>\n",
       "      <th>Average Monthly Tax Credit (2016)</th>\n",
       "      <th>State Medicaid Expansion (2016)</th>\n",
       "      <th>Medicaid Enrollment (2013)</th>\n",
       "      <th>Medicaid Enrollment (2016)</th>\n",
       "      <th>Medicaid Enrollment Change (2013-2016)</th>\n",
       "      <th>Medicare Enrollment (2016)</th>\n",
       "    </tr>\n",
       "  </thead>\n",
       "  <tbody>\n",
       "    <tr>\n",
       "      <th>0</th>\n",
       "      <td>Alabama</td>\n",
       "      <td>14.6%</td>\n",
       "      <td>10.1%</td>\n",
       "      <td>-4.5%</td>\n",
       "      <td>215000</td>\n",
       "      <td>2545000</td>\n",
       "      <td>165534</td>\n",
       "      <td>152206</td>\n",
       "      <td>$310</td>\n",
       "      <td>False</td>\n",
       "      <td>799176.0</td>\n",
       "      <td>910775</td>\n",
       "      <td>111599.0</td>\n",
       "      <td>989855</td>\n",
       "    </tr>\n",
       "    <tr>\n",
       "      <th>1</th>\n",
       "      <td>Alaska</td>\n",
       "      <td>19.9%</td>\n",
       "      <td>14.9%</td>\n",
       "      <td>-5%</td>\n",
       "      <td>36000</td>\n",
       "      <td>390000</td>\n",
       "      <td>17995</td>\n",
       "      <td>16205</td>\n",
       "      <td>$750</td>\n",
       "      <td>True</td>\n",
       "      <td>122334.0</td>\n",
       "      <td>166625</td>\n",
       "      <td>44291.0</td>\n",
       "      <td>88966</td>\n",
       "    </tr>\n",
       "    <tr>\n",
       "      <th>2</th>\n",
       "      <td>Arizona</td>\n",
       "      <td>16.9%</td>\n",
       "      <td>10.8%</td>\n",
       "      <td>-6.1%</td>\n",
       "      <td>410000</td>\n",
       "      <td>3288000</td>\n",
       "      <td>179445</td>\n",
       "      <td>124346</td>\n",
       "      <td>$230</td>\n",
       "      <td>True</td>\n",
       "      <td>1201770.0</td>\n",
       "      <td>1716198</td>\n",
       "      <td>514428.0</td>\n",
       "      <td>1175624</td>\n",
       "    </tr>\n",
       "    <tr>\n",
       "      <th>3</th>\n",
       "      <td>Arkansas</td>\n",
       "      <td>17.5%</td>\n",
       "      <td>9.5%</td>\n",
       "      <td>-8%</td>\n",
       "      <td>234000</td>\n",
       "      <td>1365000</td>\n",
       "      <td>63357</td>\n",
       "      <td>56843</td>\n",
       "      <td>$306</td>\n",
       "      <td>True</td>\n",
       "      <td>556851.0</td>\n",
       "      <td>920194</td>\n",
       "      <td>363343.0</td>\n",
       "      <td>606146</td>\n",
       "    </tr>\n",
       "    <tr>\n",
       "      <th>4</th>\n",
       "      <td>California</td>\n",
       "      <td>18.5%</td>\n",
       "      <td>8.6%</td>\n",
       "      <td>-9.9%</td>\n",
       "      <td>3826000</td>\n",
       "      <td>19552000</td>\n",
       "      <td>1415428</td>\n",
       "      <td>1239893</td>\n",
       "      <td>$309</td>\n",
       "      <td>True</td>\n",
       "      <td>7755381.0</td>\n",
       "      <td>11843081</td>\n",
       "      <td>4087700.0</td>\n",
       "      <td>5829777</td>\n",
       "    </tr>\n",
       "  </tbody>\n",
       "</table>\n",
       "</div>"
      ],
      "text/plain": [
       "        State Uninsured Rate (2010) Uninsured Rate (2015)  \\\n",
       "0    Alabama                  14.6%                 10.1%   \n",
       "1     Alaska                  19.9%                 14.9%   \n",
       "2    Arizona                  16.9%                 10.8%   \n",
       "3   Arkansas                  17.5%                  9.5%   \n",
       "4  California                 18.5%                  8.6%   \n",
       "\n",
       "  Uninsured Rate Change (2010-2015)  \\\n",
       "0                            -4.5%    \n",
       "1                              -5%    \n",
       "2                            -6.1%    \n",
       "3                              -8%    \n",
       "4                            -9.9%    \n",
       "\n",
       "   Health Insurance Coverage Change (2010-2015)  \\\n",
       "0                                        215000   \n",
       "1                                         36000   \n",
       "2                                        410000   \n",
       "3                                        234000   \n",
       "4                                       3826000   \n",
       "\n",
       "   Employer Health Insurance Coverage (2015)  \\\n",
       "0                                    2545000   \n",
       "1                                     390000   \n",
       "2                                    3288000   \n",
       "3                                    1365000   \n",
       "4                                   19552000   \n",
       "\n",
       "   Marketplace Health Insurance Coverage (2016)  \\\n",
       "0                                        165534   \n",
       "1                                         17995   \n",
       "2                                        179445   \n",
       "3                                         63357   \n",
       "4                                       1415428   \n",
       "\n",
       "   Marketplace Tax Credits (2016) Average Monthly Tax Credit (2016)  \\\n",
       "0                          152206                             $310    \n",
       "1                           16205                             $750    \n",
       "2                          124346                             $230    \n",
       "3                           56843                             $306    \n",
       "4                         1239893                             $309    \n",
       "\n",
       "  State Medicaid Expansion (2016)  Medicaid Enrollment (2013)  \\\n",
       "0                           False                    799176.0   \n",
       "1                            True                    122334.0   \n",
       "2                            True                   1201770.0   \n",
       "3                            True                    556851.0   \n",
       "4                            True                   7755381.0   \n",
       "\n",
       "   Medicaid Enrollment (2016)  Medicaid Enrollment Change (2013-2016)  \\\n",
       "0                      910775                                111599.0   \n",
       "1                      166625                                 44291.0   \n",
       "2                     1716198                                514428.0   \n",
       "3                      920194                                363343.0   \n",
       "4                    11843081                               4087700.0   \n",
       "\n",
       "   Medicare Enrollment (2016)  \n",
       "0                      989855  \n",
       "1                       88966  \n",
       "2                     1175624  \n",
       "3                      606146  \n",
       "4                     5829777  "
      ]
     },
     "execution_count": 26,
     "metadata": {},
     "output_type": "execute_result"
    }
   ],
   "source": [
    "#read the dataset\n",
    "df = pd.read_csv(\"states.csv\")\n",
    "df.head()"
   ]
  },
  {
   "cell_type": "code",
   "execution_count": 18,
   "id": "cd3963cd",
   "metadata": {},
   "outputs": [
    {
     "name": "stdout",
     "output_type": "stream",
     "text": [
      "<class 'pandas.core.frame.DataFrame'>\n",
      "RangeIndex: 52 entries, 0 to 51\n",
      "Data columns (total 14 columns):\n",
      " #   Column                                        Non-Null Count  Dtype  \n",
      "---  ------                                        --------------  -----  \n",
      " 0   State                                         52 non-null     object \n",
      " 1   Uninsured Rate (2010)                         52 non-null     object \n",
      " 2   Uninsured Rate (2015)                         52 non-null     object \n",
      " 3   Uninsured Rate Change (2010-2015)             52 non-null     object \n",
      " 4   Health Insurance Coverage Change (2010-2015)  52 non-null     int64  \n",
      " 5   Employer Health Insurance Coverage (2015)     52 non-null     int64  \n",
      " 6   Marketplace Health Insurance Coverage (2016)  52 non-null     int64  \n",
      " 7   Marketplace Tax Credits (2016)                52 non-null     int64  \n",
      " 8   Average Monthly Tax Credit (2016)             52 non-null     object \n",
      " 9   State Medicaid Expansion (2016)               51 non-null     object \n",
      " 10  Medicaid Enrollment (2013)                    50 non-null     float64\n",
      " 11  Medicaid Enrollment (2016)                    52 non-null     int64  \n",
      " 12  Medicaid Enrollment Change (2013-2016)        50 non-null     float64\n",
      " 13  Medicare Enrollment (2016)                    52 non-null     int64  \n",
      "dtypes: float64(2), int64(6), object(6)\n",
      "memory usage: 5.8+ KB\n"
     ]
    }
   ],
   "source": [
    "df.info()"
   ]
  },
  {
   "cell_type": "markdown",
   "id": "e76bb7bf",
   "metadata": {},
   "source": [
    "### we will clean the data"
   ]
  },
  {
   "cell_type": "code",
   "execution_count": 19,
   "id": "8a474b98",
   "metadata": {},
   "outputs": [],
   "source": [
    "#remove units of measurement\n",
    "df[\"Uninsured Rate (2010)\"] = df[\"Uninsured Rate (2010)\"].str.split(pat = \"%\").str[0]"
   ]
  },
  {
   "cell_type": "code",
   "execution_count": 20,
   "id": "5bab6c14",
   "metadata": {},
   "outputs": [],
   "source": [
    "#remove units of measurement\n",
    "df[\"Uninsured Rate (2015)\"] = df[\"Uninsured Rate (2015)\"].str.split(pat = \"%\").str[0]"
   ]
  },
  {
   "cell_type": "code",
   "execution_count": 21,
   "id": "bc6fef16",
   "metadata": {},
   "outputs": [
    {
     "name": "stdout",
     "output_type": "stream",
     "text": [
      "<class 'pandas.core.frame.DataFrame'>\n",
      "RangeIndex: 52 entries, 0 to 51\n",
      "Data columns (total 14 columns):\n",
      " #   Column                                        Non-Null Count  Dtype  \n",
      "---  ------                                        --------------  -----  \n",
      " 0   State                                         52 non-null     object \n",
      " 1   Uninsured Rate (2010)                         52 non-null     object \n",
      " 2   Uninsured Rate (2015)                         52 non-null     object \n",
      " 3   Uninsured Rate Change (2010-2015)             52 non-null     object \n",
      " 4   Health Insurance Coverage Change (2010-2015)  52 non-null     int64  \n",
      " 5   Employer Health Insurance Coverage (2015)     52 non-null     int64  \n",
      " 6   Marketplace Health Insurance Coverage (2016)  52 non-null     int64  \n",
      " 7   Marketplace Tax Credits (2016)                52 non-null     int64  \n",
      " 8   Average Monthly Tax Credit (2016)             52 non-null     object \n",
      " 9   State Medicaid Expansion (2016)               51 non-null     object \n",
      " 10  Medicaid Enrollment (2013)                    50 non-null     float64\n",
      " 11  Medicaid Enrollment (2016)                    52 non-null     int64  \n",
      " 12  Medicaid Enrollment Change (2013-2016)        50 non-null     float64\n",
      " 13  Medicare Enrollment (2016)                    52 non-null     int64  \n",
      "dtypes: float64(2), int64(6), object(6)\n",
      "memory usage: 5.8+ KB\n"
     ]
    }
   ],
   "source": [
    "df.info()"
   ]
  },
  {
   "cell_type": "code",
   "execution_count": 22,
   "id": "7e133177",
   "metadata": {},
   "outputs": [],
   "source": [
    "#change data types\n",
    "\n",
    "df[\"Uninsured Rate (2010)\"] = df[\"Uninsured Rate (2010)\"].astype('float')\n",
    "\n",
    "df[\"Uninsured Rate (2015)\"] = df[\"Uninsured Rate (2015)\"].astype('float')\n"
   ]
  },
  {
   "cell_type": "code",
   "execution_count": 23,
   "id": "af33f394",
   "metadata": {},
   "outputs": [
    {
     "name": "stdout",
     "output_type": "stream",
     "text": [
      "<class 'pandas.core.frame.DataFrame'>\n",
      "RangeIndex: 52 entries, 0 to 51\n",
      "Data columns (total 14 columns):\n",
      " #   Column                                        Non-Null Count  Dtype  \n",
      "---  ------                                        --------------  -----  \n",
      " 0   State                                         52 non-null     object \n",
      " 1   Uninsured Rate (2010)                         52 non-null     float64\n",
      " 2   Uninsured Rate (2015)                         52 non-null     float64\n",
      " 3   Uninsured Rate Change (2010-2015)             52 non-null     object \n",
      " 4   Health Insurance Coverage Change (2010-2015)  52 non-null     int64  \n",
      " 5   Employer Health Insurance Coverage (2015)     52 non-null     int64  \n",
      " 6   Marketplace Health Insurance Coverage (2016)  52 non-null     int64  \n",
      " 7   Marketplace Tax Credits (2016)                52 non-null     int64  \n",
      " 8   Average Monthly Tax Credit (2016)             52 non-null     object \n",
      " 9   State Medicaid Expansion (2016)               51 non-null     object \n",
      " 10  Medicaid Enrollment (2013)                    50 non-null     float64\n",
      " 11  Medicaid Enrollment (2016)                    52 non-null     int64  \n",
      " 12  Medicaid Enrollment Change (2013-2016)        50 non-null     float64\n",
      " 13  Medicare Enrollment (2016)                    52 non-null     int64  \n",
      "dtypes: float64(4), int64(6), object(4)\n",
      "memory usage: 5.8+ KB\n"
     ]
    }
   ],
   "source": [
    "df.info()"
   ]
  },
  {
   "cell_type": "markdown",
   "id": "48055ce2",
   "metadata": {},
   "source": [
    "### Perform paired t-test"
   ]
  },
  {
   "cell_type": "code",
   "execution_count": 25,
   "id": "b8bb9e24",
   "metadata": {},
   "outputs": [
    {
     "name": "stdout",
     "output_type": "stream",
     "text": [
      "Paired t-test Results:\n",
      "T-Statistic: 18.575415987078056\n",
      "P-Value: 2.372908655681907e-24\n",
      "there is a significant difference between the percentage of uninsured people before and after the implementation of obama care.\n"
     ]
    },
    {
     "data": {
      "image/png": "[encoded data removed]",
      "text/plain": [
       "<Figure size 640x480 with 1 Axes>"
      ]
     },
     "metadata": {},
     "output_type": "display_data"
    }
   ],
   "source": [
    "before_measurements = df[\"Uninsured Rate (2010)\"]\n",
    "after_measurements = df[\"Uninsured Rate (2015)\"]\n",
    "\n",
    "# Perform paired t-test\n",
    "t_statistic, p_value = stats.ttest_rel(before_measurements, after_measurements)\n",
    "\n",
    "# Print results\n",
    "print(\"Paired t-test Results:\")\n",
    "print(\"T-Statistic:\", t_statistic)\n",
    "print(\"P-Value:\", p_value)\n",
    "\n",
    "# Interpret results\n",
    "if p_value < 0.05:\n",
    "    print(\"there is a significant difference between the percentage of uninsured people before and after the implementation of obama care.\")\n",
    "else:\n",
    "    print(\"there is no  significant difference between the percentage of uninsured people before and after the implementation of obama care..\")\n",
    "\n",
    "# Visualize data\n",
    "plt.boxplot([before_measurements, after_measurements], labels=['2010', '2015'])\n",
    "plt.xlabel('Time Point')\n",
    "plt.ylabel('Uninsured Rate')\n",
    "plt.title('percentage of uninsured people')\n",
    "plt.show()"
   ]
  },
  {
   "cell_type": "code",
   "execution_count": null,
   "id": "6d4cead0",
   "metadata": {},
   "outputs": [],
   "source": []
  },
  {
   "cell_type": "code",
   "execution_count": null,
   "id": "6ceeeb51",
   "metadata": {},
   "outputs": [],
   "source": []
  }
 ],
 "metadata": {
  "kernelspec": {
   "display_name": "Python 3 (ipykernel)",
   "language": "python",
   "name": "python3"
  },
  "language_info": {
   "codemirror_mode": {
    "name": "ipython",
    "version": 3
   },
   "file_extension": ".py",
   "mimetype": "text/x-python",
   "name": "python",
   "nbconvert_exporter": "python",
   "pygments_lexer": "ipython3",
   "version": "3.11.5"
  }
 },
 "nbformat": 4,
 "nbformat_minor": 5
}
